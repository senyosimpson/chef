{
 "cells": [
  {
   "cell_type": "code",
   "execution_count": 478,
   "metadata": {},
   "outputs": [],
   "source": [
    "import numpy as np\n",
    "from matplotlib import pyplot as plt"
   ]
  },
  {
   "cell_type": "code",
   "execution_count": 479,
   "metadata": {},
   "outputs": [],
   "source": [
    "def tanh_grad(input, transpose=False):\n",
    "    grad = 1 - np.power(input, 2)\n",
    "    if transpose:\n",
    "        return grad.T\n",
    "    return grad"
   ]
  },
  {
   "cell_type": "code",
   "execution_count": 480,
   "metadata": {},
   "outputs": [],
   "source": [
    "def loss_fn(input, target, grad=False):\n",
    "    if grad:\n",
    "        return input - target\n",
    "    return np.sum(0.5 * np.power(input - target, 2))"
   ]
  },
  {
   "cell_type": "code",
   "execution_count": 481,
   "metadata": {},
   "outputs": [],
   "source": [
    "class Layer:\n",
    "    def __init__(self, n_inputs, n_outputs, activation=None):\n",
    "        self.w = np.random.randn(n_inputs, n_outputs)\n",
    "        self.b = np.random.randn(n_outputs, 1)\n",
    "        self.activation = activation\n",
    "\n",
    "    def __call__(self, input):\n",
    "        return self.forward(input)\n",
    "\n",
    "    def forward(self, input):\n",
    "        x = np.matmul(self.w.T, input) + self.b\n",
    "        if self.activation:\n",
    "            x = self.activation(x)\n",
    "        return x"
   ]
  },
  {
   "cell_type": "code",
   "execution_count": 489,
   "metadata": {},
   "outputs": [],
   "source": [
    "class NeuralNetwork:\n",
    "    def __init__(self, n_inputs, n_outputs, loss_fn=loss_fn):\n",
    "        self.layer1 = Layer(n_inputs, 4, np.tanh)\n",
    "        self.layer2 = Layer(4, n_outputs)\n",
    "        self.outputs = []\n",
    "        self.losses = []\n",
    "        \n",
    "    def forward(self, input):\n",
    "        x1 = self.layer1(input)\n",
    "        x2 = self.layer2(x1)\n",
    "        self.outputs = [input, x1, x2]\n",
    "        return x2\n",
    "    \n",
    "    def compute_deltas(self, input, target):\n",
    "        delta_k = loss_fn(input, target, grad=True)\n",
    "        delta_j = np.dot(\n",
    "            tanh_grad(self.outputs[1], transpose=False),\n",
    "            np.sum(np.dot(self.layer2.w, delta_k)))\n",
    "        return delta_k, delta_j\n",
    "    \n",
    "    def backward(self, deltas, lr=1e-3):\n",
    "        delta_k, delta_j = deltas\n",
    "        grad = np.dot(self.outputs[1], delta_k.T)\n",
    "        self.layer2.w = self.layer2.w - lr * grad\n",
    "        self.layer2.b = self.layer2.b - lr * delta_k\n",
    "\n",
    "        grad = np.dot(self.outputs[0], delta_j.T)\n",
    "        self.layer1.w = self.layer1.w - lr * grad\n",
    "        self.layer1.b = self.layer1.b - lr * delta_j\n",
    "        \n",
    "    def __call__(self, input, target):\n",
    "        x = self.forward(input)\n",
    "        deltas = self.compute_deltas(x, target)\n",
    "        self.losses.append(loss_fn(x, target))\n",
    "        self.backward(deltas)"
   ]
  },
  {
   "cell_type": "code",
   "execution_count": 490,
   "metadata": {},
   "outputs": [],
   "source": [
    "x = np.linspace(0, 1, 32).reshape(-1, 1)\n",
    "x = np.hstack((x, x))\n",
    "\n",
    "alpha = np.array([4, 3]).reshape(-1, 1)\n",
    "beta = 4\n",
    "y = np.dot(x, alpha) + beta "
   ]
  },
  {
   "cell_type": "code",
   "execution_count": 491,
   "metadata": {
    "scrolled": false
   },
   "outputs": [],
   "source": [
    "model = NeuralNetwork(2, 1)\n",
    "for epoch in range(1000):\n",
    "    for input, target in zip(x, y):\n",
    "        input = input.reshape(-1, 1)\n",
    "        target = target.reshape(-1, 1)\n",
    "        model(input, target)"
   ]
  },
  {
   "cell_type": "code",
   "execution_count": 492,
   "metadata": {},
   "outputs": [
    {
     "data": {
      "text/plain": [
       "<matplotlib.legend.Legend at 0x11d6e88d0>"
      ]
     },
     "execution_count": 492,
     "metadata": {},
     "output_type": "execute_result"
    },
    {
     "data": {
      "image/png": "[encoded data removed]",
      "text/plain": [
       "<Figure size 864x360 with 1 Axes>"
      ]
     },
     "metadata": {
      "needs_background": "light"
     },
     "output_type": "display_data"
    }
   ],
   "source": [
    "preds = [model.forward(input.reshape(-1, 1)).squeeze() for input in x]\n",
    "plt.figure(figsize=(12, 5))\n",
    "plt.plot(np.arange(len(y)), y, label='ground truth')\n",
    "plt.plot(np.arange(len(y)), preds, label='neural network')\n",
    "plt.legend()"
   ]
  },
  {
   "cell_type": "code",
   "execution_count": 494,
   "metadata": {
    "scrolled": true
   },
   "outputs": [
    {
     "data": {
      "text/plain": [
       "[<matplotlib.lines.Line2D at 0x11e13e1d0>]"
      ]
     },
     "execution_count": 494,
     "metadata": {},
     "output_type": "execute_result"
    },
    {
     "data": {
      "image/png": "[encoded data removed]",
      "text/plain": [
       "<Figure size 864x360 with 1 Axes>"
      ]
     },
     "metadata": {
      "needs_background": "light"
     },
     "output_type": "display_data"
    }
   ],
   "source": [
    "plt.figure(figsize=(12, 5))\n",
    "plt.plot(np.arange(len(model.losses)), model.losses)"
   ]
  }
 ],
 "metadata": {
  "kernelspec": {
   "display_name": "Yield",
   "language": "python",
   "name": "yield"
  },
  "language_info": {
   "codemirror_mode": {
    "name": "ipython",
    "version": 3
   },
   "file_extension": ".py",
   "mimetype": "text/x-python",
   "name": "python",
   "nbconvert_exporter": "python",
   "pygments_lexer": "ipython3",
   "version": "3.7.5"
  }
 },
 "nbformat": 4,
 "nbformat_minor": 2
}
